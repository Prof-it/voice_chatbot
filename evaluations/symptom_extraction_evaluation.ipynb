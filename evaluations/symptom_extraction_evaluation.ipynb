{
  "cells": [
    {
      "cell_type": "markdown",
      "id": "46a7d607",
      "metadata": {
        "id": "46a7d607"
      },
      "source": [
        "# Symptom‑Extraction Evaluation Notebook  \n",
        "This notebook reproduces the metrics reported in Section 5.3 (May 2025 update).\n",
        "\n",
        "* **Dataset**: `symptom_extraction_results.csv` (914 patient utterances)  \n",
        "* **Goal**: compute mention‑level TP/FP/FN counts, micro/macro/sample‑averaged Precision/Recall/F1, micro Jaccard similarity, and a confusion heat‑map for the 20 most frequent symptom labels.\n",
        "\n",
        "Feel free to tweak the parameters (e.g. `TOP_K` or the normalisation function) to explore different slices of the data.\n"
      ]
    },
    {
      "cell_type": "code",
      "execution_count": null,
      "id": "d5af444c",
      "metadata": {
        "id": "d5af444c"
      },
      "outputs": [],
      "source": [
        "import pandas as pd\n",
        "import numpy as np\n",
        "import ast\n",
        "from collections import Counter\n",
        "from sklearn.preprocessing import MultiLabelBinarizer\n",
        "from sklearn.metrics import classification_report, jaccard_score\n",
        "import matplotlib.pyplot as plt\n"
      ]
    },
    {
      "cell_type": "markdown",
      "id": "fd0d7ba7",
      "metadata": {
        "id": "fd0d7ba7"
      },
      "source": [
        "## 1. Load data"
      ]
    },
    {
      "cell_type": "code",
      "execution_count": null,
      "id": "28526f7f",
      "metadata": {
        "colab": {
          "base_uri": "https://localhost:8080/",
          "height": 224
        },
        "id": "28526f7f",
        "outputId": "ac143129-cac5-4054-ae74-01515383c5d5"
      },
      "outputs": [
        {
          "output_type": "stream",
          "name": "stdout",
          "text": [
            "Dataset loaded: 914 utterances\n"
          ]
        },
        {
          "output_type": "execute_result",
          "data": {
            "text/plain": [
              "                                           utterance  \\\n",
              "0  Sure, I'm I'm just having a lot of chest pain ...   \n",
              "1                               Sure 39, I'm a male.   \n",
              "2  It started last night, but it's becoming sharper.   \n",
              "3         It's located on the left side of my chest.   \n",
              "4  So I guess it would be a couple of hours now, ...   \n",
              "\n",
              "                                    llm_predicted  \\\n",
              "0                                  ['chest pain']   \n",
              "1                         ['Fatigue', 'Headache']   \n",
              "2  ['Sharp pain in the chest', 'Rapid heartbeat']   \n",
              "3                       ['Left-sided chest pain']   \n",
              "4                                              []   \n",
              "\n",
              "                           actual_output  \n",
              "0                         ['chest pain']  \n",
              "1                                     []  \n",
              "2                   ['becoming sharper']  \n",
              "3  ['pain on the left side of my chest']  \n",
              "4                                     []  "
            ],
            "text/html": [
              "\n",
              "  <div id=\"df-14c17a34-55d3-43b1-b648-cd9e260a46b8\" class=\"colab-df-container\">\n",
              "    <div>\n",
              "<style scoped>\n",
              "    .dataframe tbody tr th:only-of-type {\n",
              "        vertical-align: middle;\n",
              "    }\n",
              "\n",
              "    .dataframe tbody tr th {\n",
              "        vertical-align: top;\n",
              "    }\n",
              "\n",
              "    .dataframe thead th {\n",
              "        text-align: right;\n",
              "    }\n",
              "</style>\n",
              "<table border=\"1\" class=\"dataframe\">\n",
              "  <thead>\n",
              "    <tr style=\"text-align: right;\">\n",
              "      <th></th>\n",
              "      <th>utterance</th>\n",
              "      <th>llm_predicted</th>\n",
              "      <th>actual_output</th>\n",
              "    </tr>\n",
              "  </thead>\n",
              "  <tbody>\n",
              "    <tr>\n",
              "      <th>0</th>\n",
              "      <td>Sure, I'm I'm just having a lot of chest pain ...</td>\n",
              "      <td>['chest pain']</td>\n",
              "      <td>['chest pain']</td>\n",
              "    </tr>\n",
              "    <tr>\n",
              "      <th>1</th>\n",
              "      <td>Sure 39, I'm a male.</td>\n",
              "      <td>['Fatigue', 'Headache']</td>\n",
              "      <td>[]</td>\n",
              "    </tr>\n",
              "    <tr>\n",
              "      <th>2</th>\n",
              "      <td>It started last night, but it's becoming sharper.</td>\n",
              "      <td>['Sharp pain in the chest', 'Rapid heartbeat']</td>\n",
              "      <td>['becoming sharper']</td>\n",
              "    </tr>\n",
              "    <tr>\n",
              "      <th>3</th>\n",
              "      <td>It's located on the left side of my chest.</td>\n",
              "      <td>['Left-sided chest pain']</td>\n",
              "      <td>['pain on the left side of my chest']</td>\n",
              "    </tr>\n",
              "    <tr>\n",
              "      <th>4</th>\n",
              "      <td>So I guess it would be a couple of hours now, ...</td>\n",
              "      <td>[]</td>\n",
              "      <td>[]</td>\n",
              "    </tr>\n",
              "  </tbody>\n",
              "</table>\n",
              "</div>\n",
              "    <div class=\"colab-df-buttons\">\n",
              "\n",
              "  <div class=\"colab-df-container\">\n",
              "    <button class=\"colab-df-convert\" onclick=\"convertToInteractive('df-14c17a34-55d3-43b1-b648-cd9e260a46b8')\"\n",
              "            title=\"Convert this dataframe to an interactive table.\"\n",
              "            style=\"display:none;\">\n",
              "\n",
              "  <svg xmlns=\"http://www.w3.org/2000/svg\" height=\"24px\" viewBox=\"0 -960 960 960\">\n",
              "    <path d=\"M120-120v-720h720v720H120Zm60-500h600v-160H180v160Zm220 220h160v-160H400v160Zm0 220h160v-160H400v160ZM180-400h160v-160H180v160Zm440 0h160v-160H620v160ZM180-180h160v-160H180v160Zm440 0h160v-160H620v160Z\"/>\n",
              "  </svg>\n",
              "    </button>\n",
              "\n",
              "  <style>\n",
              "    .colab-df-container {\n",
              "      display:flex;\n",
              "      gap: 12px;\n",
              "    }\n",
              "\n",
              "    .colab-df-convert {\n",
              "      background-color: #E8F0FE;\n",
              "      border: none;\n",
              "      border-radius: 50%;\n",
              "      cursor: pointer;\n",
              "      display: none;\n",
              "      fill: #1967D2;\n",
              "      height: 32px;\n",
              "      padding: 0 0 0 0;\n",
              "      width: 32px;\n",
              "    }\n",
              "\n",
              "    .colab-df-convert:hover {\n",
              "      background-color: #E2EBFA;\n",
              "      box-shadow: 0px 1px 2px rgba(60, 64, 67, 0.3), 0px 1px 3px 1px rgba(60, 64, 67, 0.15);\n",
              "      fill: #174EA6;\n",
              "    }\n",
              "\n",
              "    .colab-df-buttons div {\n",
              "      margin-bottom: 4px;\n",
              "    }\n",
              "\n",
              "    [theme=dark] .colab-df-convert {\n",
              "      background-color: #3B4455;\n",
              "      fill: #D2E3FC;\n",
              "    }\n",
              "\n",
              "    [theme=dark] .colab-df-convert:hover {\n",
              "      background-color: #434B5C;\n",
              "      box-shadow: 0px 1px 3px 1px rgba(0, 0, 0, 0.15);\n",
              "      filter: drop-shadow(0px 1px 2px rgba(0, 0, 0, 0.3));\n",
              "      fill: #FFFFFF;\n",
              "    }\n",
              "  </style>\n",
              "\n",
              "    <script>\n",
              "      const buttonEl =\n",
              "        document.querySelector('#df-14c17a34-55d3-43b1-b648-cd9e260a46b8 button.colab-df-convert');\n",
              "      buttonEl.style.display =\n",
              "        google.colab.kernel.accessAllowed ? 'block' : 'none';\n",
              "\n",
              "      async function convertToInteractive(key) {\n",
              "        const element = document.querySelector('#df-14c17a34-55d3-43b1-b648-cd9e260a46b8');\n",
              "        const dataTable =\n",
              "          await google.colab.kernel.invokeFunction('convertToInteractive',\n",
              "                                                    [key], {});\n",
              "        if (!dataTable) return;\n",
              "\n",
              "        const docLinkHtml = 'Like what you see? Visit the ' +\n",
              "          '<a target=\"_blank\" href=https://colab.research.google.com/notebooks/data_table.ipynb>data table notebook</a>'\n",
              "          + ' to learn more about interactive tables.';\n",
              "        element.innerHTML = '';\n",
              "        dataTable['output_type'] = 'display_data';\n",
              "        await google.colab.output.renderOutput(dataTable, element);\n",
              "        const docLink = document.createElement('div');\n",
              "        docLink.innerHTML = docLinkHtml;\n",
              "        element.appendChild(docLink);\n",
              "      }\n",
              "    </script>\n",
              "  </div>\n",
              "\n",
              "\n",
              "    <div id=\"df-39da4a85-8f15-4d20-8b9c-ca9c00ec319c\">\n",
              "      <button class=\"colab-df-quickchart\" onclick=\"quickchart('df-39da4a85-8f15-4d20-8b9c-ca9c00ec319c')\"\n",
              "                title=\"Suggest charts\"\n",
              "                style=\"display:none;\">\n",
              "\n",
              "<svg xmlns=\"http://www.w3.org/2000/svg\" height=\"24px\"viewBox=\"0 0 24 24\"\n",
              "     width=\"24px\">\n",
              "    <g>\n",
              "        <path d=\"M19 3H5c-1.1 0-2 .9-2 2v14c0 1.1.9 2 2 2h14c1.1 0 2-.9 2-2V5c0-1.1-.9-2-2-2zM9 17H7v-7h2v7zm4 0h-2V7h2v10zm4 0h-2v-4h2v4z\"/>\n",
              "    </g>\n",
              "</svg>\n",
              "      </button>\n",
              "\n",
              "<style>\n",
              "  .colab-df-quickchart {\n",
              "      --bg-color: #E8F0FE;\n",
              "      --fill-color: #1967D2;\n",
              "      --hover-bg-color: #E2EBFA;\n",
              "      --hover-fill-color: #174EA6;\n",
              "      --disabled-fill-color: #AAA;\n",
              "      --disabled-bg-color: #DDD;\n",
              "  }\n",
              "\n",
              "  [theme=dark] .colab-df-quickchart {\n",
              "      --bg-color: #3B4455;\n",
              "      --fill-color: #D2E3FC;\n",
              "      --hover-bg-color: #434B5C;\n",
              "      --hover-fill-color: #FFFFFF;\n",
              "      --disabled-bg-color: #3B4455;\n",
              "      --disabled-fill-color: #666;\n",
              "  }\n",
              "\n",
              "  .colab-df-quickchart {\n",
              "    background-color: var(--bg-color);\n",
              "    border: none;\n",
              "    border-radius: 50%;\n",
              "    cursor: pointer;\n",
              "    display: none;\n",
              "    fill: var(--fill-color);\n",
              "    height: 32px;\n",
              "    padding: 0;\n",
              "    width: 32px;\n",
              "  }\n",
              "\n",
              "  .colab-df-quickchart:hover {\n",
              "    background-color: var(--hover-bg-color);\n",
              "    box-shadow: 0 1px 2px rgba(60, 64, 67, 0.3), 0 1px 3px 1px rgba(60, 64, 67, 0.15);\n",
              "    fill: var(--button-hover-fill-color);\n",
              "  }\n",
              "\n",
              "  .colab-df-quickchart-complete:disabled,\n",
              "  .colab-df-quickchart-complete:disabled:hover {\n",
              "    background-color: var(--disabled-bg-color);\n",
              "    fill: var(--disabled-fill-color);\n",
              "    box-shadow: none;\n",
              "  }\n",
              "\n",
              "  .colab-df-spinner {\n",
              "    border: 2px solid var(--fill-color);\n",
              "    border-color: transparent;\n",
              "    border-bottom-color: var(--fill-color);\n",
              "    animation:\n",
              "      spin 1s steps(1) infinite;\n",
              "  }\n",
              "\n",
              "  @keyframes spin {\n",
              "    0% {\n",
              "      border-color: transparent;\n",
              "      border-bottom-color: var(--fill-color);\n",
              "      border-left-color: var(--fill-color);\n",
              "    }\n",
              "    20% {\n",
              "      border-color: transparent;\n",
              "      border-left-color: var(--fill-color);\n",
              "      border-top-color: var(--fill-color);\n",
              "    }\n",
              "    30% {\n",
              "      border-color: transparent;\n",
              "      border-left-color: var(--fill-color);\n",
              "      border-top-color: var(--fill-color);\n",
              "      border-right-color: var(--fill-color);\n",
              "    }\n",
              "    40% {\n",
              "      border-color: transparent;\n",
              "      border-right-color: var(--fill-color);\n",
              "      border-top-color: var(--fill-color);\n",
              "    }\n",
              "    60% {\n",
              "      border-color: transparent;\n",
              "      border-right-color: var(--fill-color);\n",
              "    }\n",
              "    80% {\n",
              "      border-color: transparent;\n",
              "      border-right-color: var(--fill-color);\n",
              "      border-bottom-color: var(--fill-color);\n",
              "    }\n",
              "    90% {\n",
              "      border-color: transparent;\n",
              "      border-bottom-color: var(--fill-color);\n",
              "    }\n",
              "  }\n",
              "</style>\n",
              "\n",
              "      <script>\n",
              "        async function quickchart(key) {\n",
              "          const quickchartButtonEl =\n",
              "            document.querySelector('#' + key + ' button');\n",
              "          quickchartButtonEl.disabled = true;  // To prevent multiple clicks.\n",
              "          quickchartButtonEl.classList.add('colab-df-spinner');\n",
              "          try {\n",
              "            const charts = await google.colab.kernel.invokeFunction(\n",
              "                'suggestCharts', [key], {});\n",
              "          } catch (error) {\n",
              "            console.error('Error during call to suggestCharts:', error);\n",
              "          }\n",
              "          quickchartButtonEl.classList.remove('colab-df-spinner');\n",
              "          quickchartButtonEl.classList.add('colab-df-quickchart-complete');\n",
              "        }\n",
              "        (() => {\n",
              "          let quickchartButtonEl =\n",
              "            document.querySelector('#df-39da4a85-8f15-4d20-8b9c-ca9c00ec319c button');\n",
              "          quickchartButtonEl.style.display =\n",
              "            google.colab.kernel.accessAllowed ? 'block' : 'none';\n",
              "        })();\n",
              "      </script>\n",
              "    </div>\n",
              "\n",
              "    </div>\n",
              "  </div>\n"
            ],
            "application/vnd.google.colaboratory.intrinsic+json": {
              "type": "dataframe",
              "variable_name": "df",
              "summary": "{\n  \"name\": \"df\",\n  \"rows\": 914,\n  \"fields\": [\n    {\n      \"column\": \"utterance\",\n      \"properties\": {\n        \"dtype\": \"string\",\n        \"num_unique_values\": 914,\n        \"samples\": [\n          \"I thought it was just going to get better when it first started. Maybe just a bit of gas, but here we are kind of Thursday now and it's still pretty bad.\",\n          \"I can do that, yeah, actually no. I can't. Sorry that that hurts.\",\n          \"Uh, no, uh, not not anything that we know of yet.\"\n        ],\n        \"semantic_type\": \"\",\n        \"description\": \"\"\n      }\n    },\n    {\n      \"column\": \"llm_predicted\",\n      \"properties\": {\n        \"dtype\": \"category\",\n        \"num_unique_values\": 138,\n        \"samples\": [\n          \"['no blood in the stool']\",\n          \"['swelling in the right calf']\",\n          \"['Lying down worsens symptoms']\"\n        ],\n        \"semantic_type\": \"\",\n        \"description\": \"\"\n      }\n    },\n    {\n      \"column\": \"actual_output\",\n      \"properties\": {\n        \"dtype\": \"category\",\n        \"num_unique_values\": 133,\n        \"samples\": [\n          \"['Asthma']\",\n          \"['back pain']\",\n          \"['pain', 'chest pain']\"\n        ],\n        \"semantic_type\": \"\",\n        \"description\": \"\"\n      }\n    }\n  ]\n}"
            }
          },
          "metadata": {},
          "execution_count": 3
        }
      ],
      "source": [
        "CSV_PATH = '/content/symptom_extraction_results.csv'\n",
        "df = pd.read_csv(CSV_PATH)\n",
        "print(f\"Dataset loaded: {df.shape[0]} utterances\")\n",
        "df.head()"
      ]
    },
    {
      "cell_type": "markdown",
      "id": "0e066505",
      "metadata": {
        "id": "0e066505"
      },
      "source": [
        "## 2. Prediction and gold lists"
      ]
    },
    {
      "cell_type": "code",
      "execution_count": null,
      "id": "2c1b95be",
      "metadata": {
        "colab": {
          "base_uri": "https://localhost:8080/"
        },
        "id": "2c1b95be",
        "outputId": "cca5564b-25d2-459c-ae00-da439c45b3bd"
      },
      "outputs": [
        {
          "output_type": "stream",
          "name": "stdout",
          "text": [
            "Parsed columns created: pred_list, gold_list\n"
          ]
        }
      ],
      "source": [
        "def normalise(lst):\n",
        "    # simple normalisation – lower‑case & trim whitespace\n",
        "    return [s.lower().strip() for s in lst]\n",
        "\n",
        "df['pred_list'] = df['llm_predicted'].apply(ast.literal_eval).apply(normalise)\n",
        "df['gold_list'] = df['actual_output'].apply(ast.literal_eval).apply(normalise)\n",
        "print(\"Parsed columns created: pred_list, gold_list\")"
      ]
    },
    {
      "cell_type": "markdown",
      "id": "ca153a35",
      "metadata": {
        "id": "ca153a35"
      },
      "source": [
        "## 3. Dataset summary"
      ]
    },
    {
      "cell_type": "code",
      "execution_count": null,
      "id": "16cd3cca",
      "metadata": {
        "colab": {
          "base_uri": "https://localhost:8080/"
        },
        "id": "16cd3cca",
        "outputId": "ca85e2c2-bd33-452d-e994-668c16b32dcf"
      },
      "outputs": [
        {
          "output_type": "stream",
          "name": "stdout",
          "text": [
            "Total documents: 914\n",
            "Documents with ≥1 gold mention: 157 (17.2%)\n",
            "Average # predicted mentions: 0.287\n",
            "Average # gold mentions:      0.258\n"
          ]
        }
      ],
      "source": [
        "num_docs = len(df)\n",
        "docs_with_gold = (df['gold_list'].str.len() > 0).sum()\n",
        "print(f\"Total documents: {num_docs}\")\n",
        "print(f\"Documents with ≥1 gold mention: {docs_with_gold} ({docs_with_gold/num_docs:.1%})\")\n",
        "print(f\"Average # predicted mentions: {df['pred_list'].str.len().mean():.3f}\")\n",
        "print(f\"Average # gold mentions:      {df['gold_list'].str.len().mean():.3f}\")"
      ]
    },
    {
      "cell_type": "markdown",
      "id": "7188b14e",
      "metadata": {
        "id": "7188b14e"
      },
      "source": [
        "## 4. Compute mention‑level TP / FP / FN"
      ]
    },
    {
      "cell_type": "code",
      "execution_count": null,
      "id": "4131a75e",
      "metadata": {
        "colab": {
          "base_uri": "https://localhost:8080/"
        },
        "id": "4131a75e",
        "outputId": "fca03597-3afd-4252-ce59-14b4c4914c92"
      },
      "outputs": [
        {
          "output_type": "stream",
          "name": "stdout",
          "text": [
            "True Positives (TP): 185\n",
            "False Positives (FP): 77\n",
            "False Negatives (FN): 51\n",
            "Micro Precision: 0.706\n",
            "Micro Recall:    0.784\n",
            "Micro F1:        0.743\n"
          ]
        }
      ],
      "source": [
        "TP = FP = FN = 0\n",
        "for gold, pred in zip(df['gold_list'], df['pred_list']):\n",
        "    gold_set, pred_set = set(gold), set(pred)\n",
        "    TP += len(gold_set & pred_set)\n",
        "    FP += len(pred_set - gold_set)\n",
        "    FN += len(gold_set - pred_set)\n",
        "\n",
        "print(f\"True Positives (TP): {TP}\")\n",
        "print(f\"False Positives (FP): {FP}\")\n",
        "print(f\"False Negatives (FN): {FN}\")\n",
        "\n",
        "precision = TP / (TP + FP) if TP + FP else 0\n",
        "recall    = TP / (TP + FN) if TP + FN else 0\n",
        "f1        = 2 * precision * recall / (precision + recall) if precision + recall else 0\n",
        "print(f\"Micro Precision: {precision:.3f}\")\n",
        "print(f\"Micro Recall:    {recall:.3f}\")\n",
        "print(f\"Micro F1:        {f1:.3f}\")"
      ]
    },
    {
      "cell_type": "markdown",
      "id": "71af800e",
      "metadata": {
        "id": "71af800e"
      },
      "source": [
        "## 5. sklearn micro / macro / samples metrics"
      ]
    },
    {
      "cell_type": "code",
      "execution_count": null,
      "id": "949ec868",
      "metadata": {
        "colab": {
          "base_uri": "https://localhost:8080/"
        },
        "id": "949ec868",
        "outputId": "01dc8058-7112-4b62-adc1-113d972fa3fa"
      },
      "outputs": [
        {
          "output_type": "stream",
          "name": "stdout",
          "text": [
            "                                                                               precision    recall  f1-score   support\n",
            "\n",
            "                                                                                    0.00      0.00      0.00         1\n",
            "a1c levels have been high, especially recently with an 8.8 or higher reading.       1.00      1.00      1.00         1\n",
            "                                                             abdominal cramps       1.00      1.00      1.00         1\n",
            "                                                               abdominal pain       1.00      1.00      1.00         2\n",
            "                                       abdominal pain located below the lungs       1.00      1.00      1.00         1\n",
            "                                                                         ache       1.00      1.00      1.00         2\n",
            "                                                                    achy pain       0.00      0.00      0.00         1\n",
            "                                                                   ankle pain       1.00      1.00      1.00         1\n",
            "                                                                    arthritis       1.00      1.00      1.00         1\n",
            "                                                                       asthma       1.00      1.00      1.00         4\n",
            "                                                                    back pain       1.00      1.00      1.00         3\n",
            "                                back pain worsening with movement and bending       1.00      1.00      1.00         1\n",
            "                                                                   banged toe       1.00      1.00      1.00         1\n",
            "                                                             becoming sharper       0.00      0.00      0.00         1\n",
            "                                                             being overweight       1.00      1.00      1.00         1\n",
            "                                                                 blue inhaler       1.00      1.00      1.00         1\n",
            "                                                                     bruising       1.00      1.00      1.00         1\n",
            "                                                            burning sensation       0.00      0.00      0.00         1\n",
            "                                            burning sensation while urinating       1.00      1.00      1.00         1\n",
            "                                                                    calf pain       1.00      1.00      1.00         1\n",
            "                                                             chest discomfort       1.00      1.00      1.00         1\n",
            "                                                                   chest pain       0.75      0.75      0.75         4\n",
            "                                                           cholesterol levels       1.00      1.00      1.00         1\n",
            "                                                                    confusion       1.00      1.00      1.00         1\n",
            "                                                                 constipation       1.00      1.00      1.00         1\n",
            "                                                                        cough       1.00      0.50      0.67         2\n",
            "                                                          daytime improvement       1.00      1.00      1.00         1\n",
            "                                                                     diabetes       1.00      1.00      1.00         1\n",
            "                                                                     diarrhea       1.00      1.00      1.00         2\n",
            "                                                         difficulty breathing       0.00      0.00      0.00         1\n",
            "                                                           difficulty walking       1.00      1.00      1.00         1\n",
            "                                                                   discomfort       1.00      1.00      1.00         1\n",
            "                                                      down the back of my leg       1.00      1.00      1.00         1\n",
            "                                                                    dull pain       0.00      0.00      0.00         1\n",
            "                                                                     dullness       1.00      1.00      1.00         1\n",
            "                                                                  eating less       1.00      1.00      1.00         1\n",
            "                                                                   elbow pain       1.00      1.00      1.00         1\n",
            "                                                                energy levels       1.00      1.00      1.00         1\n",
            "                                                     extending the back hurts       1.00      1.00      1.00         1\n",
            "                                                                      fatigue       0.10      1.00      0.17         2\n",
            "                                                                  feeling hot       1.00      1.00      1.00         2\n",
            "                                                               feeling unwell       0.33      1.00      0.50         1\n",
            "                                                                        fever       1.00      1.00      1.00         2\n",
            "                                                         foot sole discomfort       1.00      1.00      1.00         1\n",
            "                                                           frequent urination       1.00      1.00      1.00         1\n",
            "                                                  frequent urination at night       1.00      1.00      1.00         1\n",
            "                             frequent urination despite adequate fluid intake       1.00      1.00      1.00         1\n",
            "                                                          front shoulder pain       1.00      1.00      1.00         1\n",
            "                                                                         gout       1.00      1.00      1.00         1\n",
            "                                                                     headache       0.00      0.00      0.00         1\n",
            "                                                                 heart attack       1.00      1.00      1.00         1\n",
            "                                                                heart failure       1.00      1.00      1.00         1\n",
            "                                                           heart palpitations       1.00      1.00      1.00         1\n",
            "                                                          high blood pressure       1.00      1.00      1.00         6\n",
            "                                                      high blood sugar levels       1.00      1.00      1.00         1\n",
            "                                                             high cholesterol       1.00      1.00      1.00         4\n",
            "                                          immobilization of the affected limb       1.00      1.00      1.00         1\n",
            "                                                           increased severity       1.00      1.00      1.00         1\n",
            "                                               increased thirst and urination       1.00      1.00      1.00         3\n",
            "                                                                  indigestion       0.00      0.00      0.00         1\n",
            "                                                              insulin regimen       1.00      1.00      1.00         1\n",
            "                                                               inverted ankle       1.00      1.00      1.00         1\n",
            "                                                             issues breathing       0.00      0.00      0.00         1\n",
            "                                                                   joint pain       0.50      1.00      0.67         1\n",
            "                                                               knee extension       1.00      1.00      1.00         1\n",
            "                                                                    knee pain       1.00      1.00      1.00         3\n",
            "                                                                        knees       1.00      1.00      1.00         1\n",
            "                                                                left shoulder       1.00      1.00      1.00         1\n",
            "                                                           left shoulder pain       1.00      1.00      1.00         1\n",
            "                                                                  lightheaded       0.00      0.00      0.00         1\n",
            "                                                             loss of appetite       0.50      1.00      0.67         1\n",
            "                                                                low back pain       1.00      1.00      1.00         1\n",
            "                                                              lower back pain       1.00      1.00      1.00         3\n",
            "                                                  lying down worsens symptoms       1.00      1.00      1.00         1\n",
            "                                                         medial knee swelling       1.00      1.00      1.00         1\n",
            "                                                              medication list       1.00      1.00      1.00         1\n",
            "                                                      medication side effects       1.00      1.00      1.00         1\n",
            "                                                                  memory loss       1.00      1.00      1.00         1\n",
            "                                                            morning worsening       1.00      1.00      1.00         1\n",
            "                                                              muscle weakness       1.00      0.33      0.50         3\n",
            "                                                                       nausea       0.75      0.75      0.75         4\n",
            "                                                                    neck pain       1.00      1.00      1.00         1\n",
            "                                            neck seems to be a little swollen       0.00      0.00      0.00         1\n",
            "                                                        no blood in the stool       1.00      1.00      1.00         1\n",
            "                                                                      no rash       1.00      1.00      1.00         1\n",
            "                                                      no swelling in the legs       1.00      1.00      1.00         1\n",
            "                                                      no tingling or numbness       1.00      1.00      1.00         1\n",
            "                                                                     numbness       1.00      0.50      0.67         2\n",
            "                                                         numbness or tingling       1.00      1.00      1.00         1\n",
            "                                                            occasional ulcers       1.00      1.00      1.00         1\n",
            "                                                               orange inhaler       1.00      1.00      1.00         1\n",
            "                                        osteoarthritis in both knees and hips       1.00      1.00      1.00         1\n",
            "                                                           overactive bladder       1.00      1.00      1.00         2\n",
            "                                                                         pain       0.88      0.27      0.41        26\n",
            "                                                    pain at the lateral elbow       1.00      1.00      1.00         1\n",
            "                                                        pain has gotten worse       0.00      0.00      0.00         1\n",
            "                                                             pain in my chest       0.00      0.00      0.00         1\n",
            "                                                           pain in right calf       1.00      1.00      1.00         1\n",
            "                                          pain in the abdomen during movement       1.00      1.00      1.00         1\n",
            "               pain in the knee when moving or pointing toes towards the nose       1.00      1.00      1.00         1\n",
            "                                                             pain in the legs       1.00      1.00      1.00         1\n",
            "                                                           pain in the rectum       1.00      1.00      1.00         1\n",
            "                                                    pain in the right buttock       1.00      1.00      1.00         1\n",
            "                                                       pain in the right knee       1.00      1.00      1.00         2\n",
            "                                                        pain in the right leg       1.00      1.00      1.00         1\n",
            "                                                         pain in the shoulder       1.00      1.00      1.00         1\n",
            "                                                            pain in the wrist       1.00      1.00      1.00         1\n",
            "                                                        pain on the left side       0.00      0.00      0.00         1\n",
            "                                            pain on the left side of my chest       0.00      0.00      0.00         1\n",
            "                                                    pain rated seven or eight       0.00      0.00      0.00         1\n",
            "                                                    pain when moving the knee       1.00      1.00      1.00         1\n",
            "                                                       pain when moving wrist       1.00      1.00      1.00         1\n",
            "                                                            pain when walking       1.00      1.00      1.00         1\n",
            "                                                         pressure on my chest       0.00      0.00      0.00         1\n",
            "                                                            pressure on wrist       1.00      1.00      1.00         1\n",
            "                                                              pretty bad pain       0.00      0.00      0.00         1\n",
            "                                                         pretty constant pain       0.00      0.00      0.00         1\n",
            "                                                               pronation pain       1.00      1.00      1.00         1\n",
            "                                                              prostate cancer       1.00      1.00      1.00         1\n",
            "                                                  radiating pain down the leg       1.00      1.00      1.00         1\n",
            "                                                                         rash       0.00      0.00      0.00         1\n",
            "                                                                      redness       1.00      0.50      0.67         2\n",
            "                                                         redness and swelling       1.00      1.00      1.00         1\n",
            "                                     redness on the medial aspect of the knee       1.00      1.00      1.00         1\n",
            "                                                     restlessness and fatigue       1.00      1.00      1.00         1\n",
            "                                                              right hand pain       1.00      1.00      1.00         1\n",
            "                                                       right humerus fracture       1.00      1.00      1.00         1\n",
            "                                                               right leg pain       1.00      1.00      1.00         1\n",
            "                                                                   runny nose       1.00      1.00      1.00         1\n",
            "                            severe pain in the affected area (after the fall)       1.00      1.00      1.00         1\n",
            "                                                                        sharp       1.00      1.00      1.00         1\n",
            "                                                       sharp episodes of pain       1.00      1.00      1.00         1\n",
            "                                                                   sharp pain       1.00      0.67      0.80         3\n",
            "                                                      sharp pain in the chest       0.50      1.00      0.67         1\n",
            "                                              sharp pain in the lower abdomen       1.00      1.00      1.00         1\n",
            "                                                          shortness of breath       0.50      1.00      0.67         1\n",
            "                                                                shoulder pain       1.00      1.00      1.00         3\n",
            "                                                                    sinusitis       1.00      1.00      1.00         1\n",
            "                                                smoking-related health issues       1.00      1.00      1.00         1\n",
            "                                                        sole of the foot pain       1.00      1.00      1.00         1\n",
            "                                                                    stiffness       1.00      1.00      1.00         1\n",
            "                                                       stiffness in the knees       1.00      1.00      1.00         1\n",
            "                                                                 stomach ache       1.00      1.00      1.00         1\n",
            "                                                                 stomach pain       1.00      1.00      1.00         1\n",
            "                                                                     swelling       1.00      0.67      0.80         6\n",
            "                                                   swelling in the right calf       1.00      1.00      1.00         1\n",
            "                                                   swelling in the right knee       1.00      1.00      1.00         1\n",
            "                                         swelling with leakage of white stuff       1.00      1.00      1.00         1\n",
            "                              the last time it was checked was [insert date].       1.00      1.00      1.00         1\n",
            "                                                                     tingling       1.00      0.50      0.67         2\n",
            "                                                                    tiredness       1.00      1.00      1.00         1\n",
            "                                                            trouble breathing       1.00      0.50      0.67         2\n",
            "                                                                twisted ankle       1.00      1.00      1.00         1\n",
            "                                                                     vomiting       0.67      1.00      0.80         2\n",
            "                                          weight loss despite eating normally       1.00      1.00      1.00         2\n",
            "                                                 weightedness in the left leg       1.00      1.00      1.00         1\n",
            "                                                               worse symptoms       1.00      1.00      1.00         1\n",
            "                                                          worsening condition       1.00      1.00      1.00         1\n",
            "                                                                wrist flexion       1.00      1.00      1.00         1\n",
            "                                                                   wrist pain       1.00      1.00      1.00         1\n",
            "\n",
            "                                                                    micro avg       0.79      0.78      0.79       236\n",
            "                                                                    macro avg       0.85      0.84      0.83       236\n",
            "                                                                 weighted avg       0.87      0.78      0.80       236\n",
            "                                                                  samples avg       0.13      0.13      0.13       236\n",
            "\n",
            "Micro Jaccard similarity: 0.6491228070175439\n"
          ]
        },
        {
          "output_type": "stream",
          "name": "stderr",
          "text": [
            "/usr/local/lib/python3.11/dist-packages/sklearn/preprocessing/_label.py:909: UserWarning: unknown class(es) ['car parts', 'carrying heavy objects', 'chest pressure', 'experiencing fatigue', 'hurt', 'i am going to the washroom', \"i'm feeling a bit off\", 'joint warmth', 'left-sided chest pain', 'lightheadedness', 'metformin', 'muscle strain', 'neck swelling', 'no blood in urine', 'no strokes', 'noise from neighbors', \"partner's constant phone usage\", 'rapid heartbeat', 'rashes', 'respiratory issues', 'rosuvastatin', 'sleep deprivation due to late-night childcare duties', 'sore throat', 'stress levels high due to family responsibilities', 'taking 4 pills right now', 'unexplained fatigue', 'weird noises at night'] will be ignored\n",
            "  warnings.warn(\n",
            "/usr/local/lib/python3.11/dist-packages/sklearn/metrics/_classification.py:1565: UndefinedMetricWarning: Precision is ill-defined and being set to 0.0 in labels with no predicted samples. Use `zero_division` parameter to control this behavior.\n",
            "  _warn_prf(average, modifier, f\"{metric.capitalize()} is\", len(result))\n",
            "/usr/local/lib/python3.11/dist-packages/sklearn/metrics/_classification.py:1565: UndefinedMetricWarning: Precision is ill-defined and being set to 0.0 in samples with no predicted labels. Use `zero_division` parameter to control this behavior.\n",
            "  _warn_prf(average, modifier, f\"{metric.capitalize()} is\", len(result))\n",
            "/usr/local/lib/python3.11/dist-packages/sklearn/metrics/_classification.py:1565: UndefinedMetricWarning: Recall is ill-defined and being set to 0.0 in samples with no true labels. Use `zero_division` parameter to control this behavior.\n",
            "  _warn_prf(average, modifier, f\"{metric.capitalize()} is\", len(result))\n",
            "/usr/local/lib/python3.11/dist-packages/sklearn/metrics/_classification.py:1565: UndefinedMetricWarning: F-score is ill-defined and being set to 0.0 in samples with no true nor predicted labels. Use `zero_division` parameter to control this behavior.\n",
            "  _warn_prf(average, modifier, f\"{metric.capitalize()} is\", len(result))\n"
          ]
        }
      ],
      "source": [
        "mlb = MultiLabelBinarizer()\n",
        "Y_gold = mlb.fit_transform(df['gold_list'])\n",
        "Y_pred = mlb.transform(df['pred_list'])\n",
        "print(classification_report(Y_gold, Y_pred, target_names=mlb.classes_))\n",
        "\n",
        "print(\"Micro Jaccard similarity:\",\n",
        "      jaccard_score(Y_gold, Y_pred, average='micro'))"
      ]
    },
    {
      "cell_type": "markdown",
      "id": "827701ac",
      "metadata": {
        "id": "827701ac"
      },
      "source": [
        "## 6. Confusion heat‑map (top‑k frequent labels)"
      ]
    },
    {
      "cell_type": "code",
      "execution_count": null,
      "id": "f721b48e",
      "metadata": {
        "colab": {
          "base_uri": "https://localhost:8080/",
          "height": 807
        },
        "id": "f721b48e",
        "outputId": "705f9947-7a24-4295-8023-824e02c13644"
      },
      "outputs": [
        {
          "output_type": "display_data",
          "data": {
            "text/plain": [
              "<Figure size 1000x800 with 1 Axes>"
            ],
            "image/png": "[encoded data removed]"
          },
          "metadata": {}
        }
      ],
      "source": [
        "# Build full label set & counts\n",
        "all_labels = [s for sub in df['gold_list'] for s in sub] +              [s for sub in df['pred_list'] for s in sub]\n",
        "freq_counter = Counter(all_labels)\n",
        "TOP_K = 20\n",
        "top_labels = [l for l,_ in freq_counter.most_common(TOP_K)]\n",
        "\n",
        "label_to_idx = {l:i for i,l in enumerate(top_labels)}\n",
        "cm = np.zeros((TOP_K, TOP_K), dtype=int)\n",
        "\n",
        "for gold, pred in zip(df['gold_list'], df['pred_list']):\n",
        "    for g in gold:\n",
        "        for p in pred:\n",
        "            if g in label_to_idx and p in label_to_idx:\n",
        "                cm[label_to_idx[g], label_to_idx[p]] += 1\n",
        "\n",
        "fig, ax = plt.subplots(figsize=(10, 8))\n",
        "im = ax.imshow(cm)\n",
        "ax.set_xticks(np.arange(TOP_K))\n",
        "ax.set_yticks(np.arange(TOP_K))\n",
        "ax.set_xticklabels(top_labels, rotation=45, ha='right')\n",
        "ax.set_yticklabels(top_labels)\n",
        "ax.set_title(f\"Confusion counts – top {TOP_K} symptoms\")\n",
        "plt.tight_layout()\n",
        "plt.show()"
      ]
    },
    {
      "cell_type": "markdown",
      "id": "bf24ecbe",
      "metadata": {
        "id": "bf24ecbe"
      },
      "source": [
        "## 7. Future work\n",
        "* Evaluate token‑overlap (Dice / IoU) for partial‑credit analysis.  \n",
        "* Add error‑bucket sampling to inspect typical FP and FN cases.  \n",
        "* Compare multiple model checkpoints by appending their results to a summary DataFrame."
      ]
    },
    {
      "cell_type": "code",
      "source": [],
      "metadata": {
        "id": "TZcx54hkJLUl"
      },
      "id": "TZcx54hkJLUl",
      "execution_count": null,
      "outputs": []
    }
  ],
  "metadata": {
    "colab": {
      "provenance": [],
      "machine_shape": "hm"
    },
    "language_info": {
      "name": "python"
    },
    "kernelspec": {
      "name": "python3",
      "display_name": "Python 3"
    }
  },
  "nbformat": 4,
  "nbformat_minor": 5
}