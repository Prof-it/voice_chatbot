{
  "cells": [
    {
      "cell_type": "markdown",
      "id": "359571c6",
      "metadata": {
        "id": "359571c6"
      },
      "source": [
        "# ICD‑10 Mapper Evaluation (R/I/J chapters)\n",
        "*Generated 2025-06-13T17:18*"
      ]
    },
    {
      "cell_type": "markdown",
      "id": "9ee2edd0",
      "metadata": {
        "id": "9ee2edd0"
      },
      "source": [
        "This notebook:\n",
        "1. Loads the Kaggle `icd10_symptoms.csv` mapping.\n",
        "2. Loads the gold symptoms from the 914‑utterance dataset.\n",
        "3. Filters ICD‑10 codes to chapters **R, I, J**.\n",
        "4. Computes coverage, ambiguity, and prepares stubs for accuracy evaluation once gold codes are available.\n"
      ]
    },
    {
      "cell_type": "code",
      "execution_count": 1,
      "id": "05ceebf5",
      "metadata": {
        "colab": {
          "base_uri": "https://localhost:8080/"
        },
        "id": "05ceebf5",
        "outputId": "298ccc53-5466-41bf-9621-dfd0f59ebc34"
      },
      "outputs": [
        {
          "output_type": "stream",
          "name": "stdout",
          "text": [
            "pandas 2.2.2\n"
          ]
        }
      ],
      "source": [
        "import pandas as pd, ast, collections\n",
        "print('pandas', pd.__version__)"
      ]
    },
    {
      "cell_type": "markdown",
      "id": "e4db938b",
      "metadata": {
        "id": "e4db938b"
      },
      "source": [
        "## Load mapping and gold symptoms"
      ]
    },
    {
      "cell_type": "code",
      "execution_count": 2,
      "id": "a0768d54",
      "metadata": {
        "colab": {
          "base_uri": "https://localhost:8080/"
        },
        "id": "a0768d54",
        "outputId": "6342545d-71e3-47fe-8150-d85d960329a7"
      },
      "outputs": [
        {
          "output_type": "stream",
          "name": "stdout",
          "text": [
            "Unique gold symptoms: 160\n"
          ]
        }
      ],
      "source": [
        "MAP_PATH = '/content/icd10_symptoms.csv'\n",
        "GOLD_PATH = '/content/symptom_extraction_results.csv'\n",
        "map_df = pd.read_csv(MAP_PATH)\n",
        "gold_df = pd.read_csv(GOLD_PATH)\n",
        "gold_df['gold_list'] = gold_df['actual_output'].apply(ast.literal_eval)\n",
        "gold_symptoms = {s.lower().strip() for sub in gold_df['gold_list'] for s in sub}\n",
        "print('Unique gold symptoms:', len(gold_symptoms))"
      ]
    },
    {
      "cell_type": "markdown",
      "id": "665c0712",
      "metadata": {
        "id": "665c0712"
      },
      "source": [
        "## Build symptom → codes dictionary (filtered to R/I/J)"
      ]
    },
    {
      "cell_type": "code",
      "execution_count": 7,
      "id": "acc2daa9",
      "metadata": {
        "colab": {
          "base_uri": "https://localhost:8080/"
        },
        "id": "acc2daa9",
        "outputId": "7231c3e1-9911-43bc-8162-f69732f7aa0e"
      },
      "outputs": [
        {
          "output_type": "stream",
          "name": "stdout",
          "text": [
            "Symptoms with ≥1 R/I/J code: 7198\n"
          ]
        }
      ],
      "source": [
        "symptom_to_codes = collections.defaultdict(set)\n",
        "for _,row in map_df.iterrows():\n",
        "    code = row.icd10code.strip()\n",
        "    # if not code or code[0] not in 'RIJ':\n",
        "    #     continue\n",
        "    for symptom in [s.strip().lower() for s in row.symptoms.split(',')]:\n",
        "        symptom_to_codes[symptom].add(code)\n",
        "print('Symptoms with ≥1 R/I/J code:', len(symptom_to_codes))"
      ]
    },
    {
      "cell_type": "markdown",
      "id": "10bd8bde",
      "metadata": {
        "id": "10bd8bde"
      },
      "source": [
        "## Coverage & ambiguity for gold symptoms"
      ]
    },
    {
      "cell_type": "code",
      "execution_count": 8,
      "id": "11214b3d",
      "metadata": {
        "colab": {
          "base_uri": "https://localhost:8080/"
        },
        "id": "11214b3d",
        "outputId": "46f0124e-4020-4d22-a128-f93e90fba7cf"
      },
      "outputs": [
        {
          "output_type": "stream",
          "name": "stdout",
          "text": [
            "Coverage: 58/160 = 36.2%\n",
            "  Unambiguous: 8\n",
            "  Ambiguous (≥2 codes): 50\n"
          ]
        }
      ],
      "source": [
        "covered = {s for s in gold_symptoms if s in symptom_to_codes}\n",
        "coverage = len(covered)/len(gold_symptoms)\n",
        "unambig = sum(1 for s in covered if len(symptom_to_codes[s])==1)\n",
        "ambig = len(covered) - unambig\n",
        "print(f'Coverage: {len(covered)}/{len(gold_symptoms)} = {coverage:.1%}')\n",
        "print(f'  Unambiguous: {unambig}')\n",
        "print(f'  Ambiguous (≥2 codes): {ambig}')"
      ]
    },
    {
      "cell_type": "markdown",
      "id": "d041d57d",
      "metadata": {
        "id": "d041d57d"
      },
      "source": [
        "## Baseline top‑1 picker (alphabetical first code)"
      ]
    },
    {
      "cell_type": "code",
      "execution_count": 9,
      "id": "4a637c81",
      "metadata": {
        "colab": {
          "base_uri": "https://localhost:8080/"
        },
        "id": "4a637c81",
        "outputId": "3a2c853e-de28-4c0e-fe80-4e2109abf707"
      },
      "outputs": [
        {
          "output_type": "stream",
          "name": "stdout",
          "text": [
            "Baseline predictions prepared.\n",
            "{'': 'C44.6', 'constipation': 'A00.0', 'swelling': 'A25.0', 'high blood sugar levels': 'E24.9', 'rash': 'A25.1', 'nausea': 'A02.1', 'calf pain': 'O22.3', 'trouble breathing': 'I30.1', 'fatigue': 'A06.3', 'pain in the legs': 'I70.2', 'high cholesterol': 'R94.6', 'redness': 'A46', 'pain': 'A46', 'pain in the shoulder': 'G54.2', 'frequent urination': 'A56.2', 'discomfort': 'A63.0', 'pain in the wrist': 'S62.0', 'bruising': 'L90.4', 'sinusitis': 'D83.1', 'difficulty breathing': 'A16.2', 'stomach pain': 'A09.0', 'confusion': 'A24.4', 'difficulty walking': 'A81.1', 'frequent urination at night': 'D40.7', 'neck pain': 'C75.0', 'memory loss': 'A17.0', 'lower back pain': 'C62.9', 'fever': 'A00.0', 'chest discomfort': 'D15.2', 'cough': 'A15.3', 'back pain': 'C54.8', 'diarrhea': 'A01.0', 'stiffness': 'G24.8', 'numbness': 'A30.0', 'joint pain': 'A23.0', 'heart palpitations': 'C74.1', 'runny nose': 'A37.8', 'muscle weakness': 'A30.0', 'redness and swelling': 'T31.9', 'burning sensation': 'A59.0', 'knee pain': 'M17.0', 'headache': 'A17.0', 'abdominal pain': 'A00.0', 'tiredness': 'B00.8', 'chest pain': 'A15.0', 'low back pain': 'S33.3', 'indigestion': 'C16.2', 'increased thirst and urination': 'E12', 'numbness or tingling': 'C41.4', 'shoulder pain': 'M43.0', 'tingling': 'B02.3', 'abdominal cramps': 'A07.2', 'elbow pain': 'S53.3', 'loss of appetite': 'A00.1', 'sharp pain': 'G59.8', 'high blood pressure': 'C74.9', 'shortness of breath': 'A18.0', 'vomiting': 'A00.0'}\n"
          ]
        }
      ],
      "source": [
        "# Stub for future gold code annotation\n",
        "gold_code_dict = {}  # symptom -> gold ICD‑10 code (R/I/J only)\n",
        "predictions = {s: sorted(symptom_to_codes[s])[0] for s in covered}\n",
        "print('Baseline predictions prepared.')\n",
        "print(predictions)"
      ]
    },
    {
      "cell_type": "markdown",
      "id": "bc79aa17",
      "metadata": {
        "id": "bc79aa17"
      },
      "source": [
        "### TODO\n",
        "1. Fill `gold_code_dict` with reference codes.\n",
        "2. Compute exact‑code, block‑code, chapter‑code accuracy.\n",
        "3. Build confusion analysis."
      ]
    }
  ],
  "metadata": {
    "colab": {
      "provenance": []
    },
    "language_info": {
      "name": "python"
    },
    "kernelspec": {
      "name": "python3",
      "display_name": "Python 3"
    }
  },
  "nbformat": 4,
  "nbformat_minor": 5
}